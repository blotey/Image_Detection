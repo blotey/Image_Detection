{
 "cells": [
  {
   "cell_type": "markdown",
   "metadata": {},
   "source": [
    "# Training and Evaluation\n",
    "\n",
    "In this notebook, we will train the face detection and recognition models and evaluate their performance using various metrics."
   ]
  },
  {
   "cell_type": "code",
   "execution_count": null,
   "metadata": {
    "collapsed": false
   },
   "outputs": [],
   "source": [
    "# Import necessary libraries\n",
    "import numpy as np\n",
    "import cv2\n",
    "import matplotlib.pyplot as plt\n",
    "from src.datasets.loader import load_dataset\n",
    "from src.recognizer.embeddings import EmbeddingsExtractor\n",
    "from src.recognizer.classifier import FaceRecognizer\n",
    "from sklearn.metrics import classification_report, confusion_matrix\n",
    "\n",
    "# Load the dataset\n",
    "X_train, y_train, X_test, y_test = load_dataset()\n",
    "\n",
    "# Extract embeddings\n",
    "embeddings_extractor = EmbeddingsExtractor()\n",
    "train_embeddings = [embeddings_extractor.extract_embeddings(image) for image in X_train]\n",
    "\n",
    "# Train the face recognizer\n",
    "face_recognizer = FaceRecognizer()\n",
    "face_recognizer.train_model(train_embeddings, y_train)\n",
    "\n",
    "# Evaluate the model\n",
    "test_embeddings = [embeddings_extractor.extract_embeddings(image) for image in X_test]\n",
    "predictions = [face_recognizer.recognize_face(embedding) for embedding in test_embeddings]\n",
    "\n",
    "# Generate evaluation metrics\n",
    "print(classification_report(y_test, predictions))\n",
    "conf_matrix = confusion_matrix(y_test, predictions)\n",
    "plt.figure(figsize=(10, 7))\n",
    "plt.imshow(conf_matrix, interpolation='nearest', cmap=plt.cm.Blues)\n",
    "plt.title('Confusion Matrix')\n",
    "plt.colorbar()\n",
    "tick_marks = np.arange(len(set(y_test)))\n",
    "plt.xticks(tick_marks, set(y_test))\n",
    "plt.yticks(tick_marks, set(y_test))\n",
    "plt.ylabel('True label')\n",
    "plt.xlabel('Predicted label')\n",
    "plt.show()"
   ]
  }
 ],
 "metadata": {
  "kernelspec": {
   "display_name": "Python 3",
   "language": "python",
   "name": "python3"
  },
  "language_info": {
   "codemirror_mode": {
    "name": "ipython",
    "version": 3
   },
   "file_extension": ".py",
   "mimetype": "text/x-python",
   "name": "python",
   "nbconvert_exporter": "python",
   "pygments_lexer": "ipython3",
   "version": "3.8.5"
  }
 },
 "nbformat": 4,
 "nbformat_minor": 4
}