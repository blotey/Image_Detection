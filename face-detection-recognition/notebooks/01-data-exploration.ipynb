{
 "cells": [
  {
   "cell_type": "markdown",
   "metadata": {},
   "source": [
    "# Data Exploration\n",
    "\n",
    "In this notebook, we will explore the dataset used for face detection and recognition. We will visualize some images, check the distribution of classes, and understand the data better."
   ]
  },
  {
   "cell_type": "code",
   "execution_count": null,
   "metadata": {},
   "outputs": [],
   "source": [
    "import os\n",
    "import cv2\n",
    "import numpy as np\n",
    "import matplotlib.pyplot as plt\n",
    "\n",
    "# Set the path to the dataset\n",
    "DATASET_PATH = 'path/to/your/dataset'\n",
    "\n",
    "# Function to load images from the dataset\n",
    "def load_images_from_folder(folder):\n",
    "    images = []\n",
    "    for filename in os.listdir(folder):\n",
    "        img = cv2.imread(os.path.join(folder, filename))\n",
    "        if img is not None:\n",
    "            images.append(img)\n",
    "    return images\n",
    "\n",
    "# Load images\n",
    "images = load_images_from_folder(DATASET_PATH)\n",
    "\n",
    "# Display some images\n",
    "def display_images(images, cols=3):\n",
    "    rows = len(images) // cols + (len(images) % cols > 0)\n",
    "    plt.figure(figsize=(15, 5 * rows))\n",
    "    for i, img in enumerate(images):\n",
    "        plt.subplot(rows, cols, i + 1)\n",
    "        plt.imshow(cv2.cvtColor(img, cv2.COLOR_BGR2RGB))\n",
    "        plt.axis('off')\n",
    "    plt.show()\n",
    "\n",
    "# Display the first 9 images\n",
    "display_images(images[:9])\n",
    "\n",
    "# Check the distribution of classes (if applicable)\n",
    "# Assuming we have a labels file or a way to get labels\n",
    "# labels = ... (load your labels here)\n",
    "# unique, counts = np.unique(labels, return_counts=True)\n",
    "# plt.bar(unique, counts)\n",
    "# plt.xlabel('Classes')\n",
    "# plt.ylabel('Number of Images')\n",
    "# plt.title('Class Distribution')\n",
    "# plt.show()"
   ]
  }
 ],
 "metadata": {
  "kernelspec": {
   "display_name": "Python 3",
   "language": "python",
   "name": "python3"
  },
  "language_info": {
   "codemirror_mode": {
    "name": "ipython",
    "version": 3
   },
   "file_extension": ".py",
   "mimetype": "text/x-python",
   "name": "python",
   "nbconvert_exporter": "python",
   "pygments_lexer": "ipython3",
   "version": "3.8.5"
  }
 },
 "nbformat": 4,
 "nbformat_minor": 4
}